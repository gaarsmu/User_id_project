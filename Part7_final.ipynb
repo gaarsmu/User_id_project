{
 "cells": [
  {
   "cell_type": "markdown",
   "metadata": {},
   "source": [
    "# User identification project, final review"
   ]
  },
  {
   "cell_type": "markdown",
   "metadata": {
    "collapsed": true
   },
   "source": [
    "This is user identification project, our goal is identify a user with given sites he visited during the session and the time he visited each site. Our tasks are:\n",
    "    \n",
    "    -Make basic data analysis, visualise the data.\n",
    "    -Identify features we will base our prediction on and extract it from the data.\n",
    "    -Choose the best estimator to make a predictions\n",
    "    -Rebuilt the data structure to make it acceptable by vowpal wabbit\n",
    "    -Make predictions with Vowpal Wabbit "
   ]
  },
  {
   "cell_type": "markdown",
   "metadata": {},
   "source": [
    "**1. Data description**\n",
    "\n",
    "The [data](https://inclass.kaggle.com/c/identify-me-if-you-can4/data) we have is information about 400 users browsing activity, presented by sessions. Each session consist of no more then 10 sites and could last not more, then 30 minutes. If user visited less then 10 sites until the end of the session or in 30 minutes, rest of site feature fields are filled by zero. Basically, I am going to use three sets of features:\n",
    "\n",
    "-Sites user visited as bag of words\n",
    "\n",
    "-Sequance user visited sites\n",
    "\n",
    "-Time session starts\n",
    "\n",
    "Ten user data which will be used during model selection part is available [here](https://yadi.sk/d/3gscKIdN3BCASG).\n",
    "\n",
    "Let's take look on the data:"
   ]
  },
  {
   "cell_type": "code",
   "execution_count": 1,
   "metadata": {
    "collapsed": true
   },
   "outputs": [],
   "source": [
    "import os\n",
    "import re\n",
    "import numpy as np\n",
    "import pandas as pd\n",
    "from tqdm import tqdm\n",
    "from scipy.sparse import csr_matrix, hstack\n",
    "import matplotlib.pyplot as plt\n",
    "%matplotlib inline\n",
    "import sklearn.datasets\n",
    "from sklearn.metrics import accuracy_score, roc_auc_score, confusion_matrix\n",
    "from sklearn.model_selection import train_test_split\n",
    "from sklearn.preprocessing import LabelEncoder\n",
    "from glob import glob\n",
    "from sklearn.model_selection import train_test_split, cross_val_score, StratifiedKFold, GridSearchCV\n",
    "import pickle"
   ]
  },
  {
   "cell_type": "code",
   "execution_count": 5,
   "metadata": {
    "collapsed": false
   },
   "outputs": [],
   "source": [
    "PATH_TO_DATA = 'C:/Users/ArseniiM/Python/C6/Project1'\n",
    "train_df = pd.read_csv(os.path.join(PATH_TO_DATA, 'train_sessions.csv'),\n",
    "                       index_col='session_id')\n",
    "test_df = pd.read_csv(os.path.join(PATH_TO_DATA, 'test_sessions.csv'),\n",
    "                      index_col='session_id')"
   ]
  },
  {
   "cell_type": "code",
   "execution_count": 112,
   "metadata": {
    "collapsed": false
   },
   "outputs": [
    {
     "data": {
      "text/plain": [
       "(182793, 21)"
      ]
     },
     "execution_count": 112,
     "metadata": {},
     "output_type": "execute_result"
    }
   ],
   "source": [
    "train_df.shape"
   ]
  },
  {
   "cell_type": "code",
   "execution_count": 113,
   "metadata": {
    "collapsed": false
   },
   "outputs": [
    {
     "data": {
      "text/html": [
       "<div>\n",
       "<style>\n",
       "    .dataframe thead tr:only-child th {\n",
       "        text-align: right;\n",
       "    }\n",
       "\n",
       "    .dataframe thead th {\n",
       "        text-align: left;\n",
       "    }\n",
       "\n",
       "    .dataframe tbody tr th {\n",
       "        vertical-align: top;\n",
       "    }\n",
       "</style>\n",
       "<table border=\"1\" class=\"dataframe\">\n",
       "  <thead>\n",
       "    <tr style=\"text-align: right;\">\n",
       "      <th></th>\n",
       "      <th>site1</th>\n",
       "      <th>time1</th>\n",
       "      <th>site2</th>\n",
       "      <th>time2</th>\n",
       "      <th>site3</th>\n",
       "      <th>time3</th>\n",
       "      <th>site4</th>\n",
       "      <th>time4</th>\n",
       "      <th>site5</th>\n",
       "      <th>time5</th>\n",
       "      <th>...</th>\n",
       "      <th>time6</th>\n",
       "      <th>site7</th>\n",
       "      <th>time7</th>\n",
       "      <th>site8</th>\n",
       "      <th>time8</th>\n",
       "      <th>site9</th>\n",
       "      <th>time9</th>\n",
       "      <th>site10</th>\n",
       "      <th>time10</th>\n",
       "      <th>user_id</th>\n",
       "    </tr>\n",
       "    <tr>\n",
       "      <th>session_id</th>\n",
       "      <th></th>\n",
       "      <th></th>\n",
       "      <th></th>\n",
       "      <th></th>\n",
       "      <th></th>\n",
       "      <th></th>\n",
       "      <th></th>\n",
       "      <th></th>\n",
       "      <th></th>\n",
       "      <th></th>\n",
       "      <th></th>\n",
       "      <th></th>\n",
       "      <th></th>\n",
       "      <th></th>\n",
       "      <th></th>\n",
       "      <th></th>\n",
       "      <th></th>\n",
       "      <th></th>\n",
       "      <th></th>\n",
       "      <th></th>\n",
       "      <th></th>\n",
       "    </tr>\n",
       "  </thead>\n",
       "  <tbody>\n",
       "    <tr>\n",
       "      <th>1</th>\n",
       "      <td>23713</td>\n",
       "      <td>2014-03-24 15:22:40</td>\n",
       "      <td>23720.0</td>\n",
       "      <td>2014-03-24 15:22:48</td>\n",
       "      <td>23713.0</td>\n",
       "      <td>2014-03-24 15:22:48</td>\n",
       "      <td>23713.0</td>\n",
       "      <td>2014-03-24 15:22:54</td>\n",
       "      <td>23720.0</td>\n",
       "      <td>2014-03-24 15:22:54</td>\n",
       "      <td>...</td>\n",
       "      <td>2014-03-24 15:22:55</td>\n",
       "      <td>23713.0</td>\n",
       "      <td>2014-03-24 15:23:01</td>\n",
       "      <td>23713.0</td>\n",
       "      <td>2014-03-24 15:23:03</td>\n",
       "      <td>23713.0</td>\n",
       "      <td>2014-03-24 15:23:04</td>\n",
       "      <td>23713.0</td>\n",
       "      <td>2014-03-24 15:23:05</td>\n",
       "      <td>653</td>\n",
       "    </tr>\n",
       "    <tr>\n",
       "      <th>2</th>\n",
       "      <td>8726</td>\n",
       "      <td>2014-04-17 14:25:58</td>\n",
       "      <td>8725.0</td>\n",
       "      <td>2014-04-17 14:25:59</td>\n",
       "      <td>665.0</td>\n",
       "      <td>2014-04-17 14:25:59</td>\n",
       "      <td>8727.0</td>\n",
       "      <td>2014-04-17 14:25:59</td>\n",
       "      <td>45.0</td>\n",
       "      <td>2014-04-17 14:25:59</td>\n",
       "      <td>...</td>\n",
       "      <td>2014-04-17 14:26:01</td>\n",
       "      <td>45.0</td>\n",
       "      <td>2014-04-17 14:26:01</td>\n",
       "      <td>5320.0</td>\n",
       "      <td>2014-04-17 14:26:18</td>\n",
       "      <td>5320.0</td>\n",
       "      <td>2014-04-17 14:26:47</td>\n",
       "      <td>5320.0</td>\n",
       "      <td>2014-04-17 14:26:48</td>\n",
       "      <td>198</td>\n",
       "    </tr>\n",
       "    <tr>\n",
       "      <th>3</th>\n",
       "      <td>303</td>\n",
       "      <td>2014-03-21 10:12:24</td>\n",
       "      <td>19.0</td>\n",
       "      <td>2014-03-21 10:12:36</td>\n",
       "      <td>303.0</td>\n",
       "      <td>2014-03-21 10:12:54</td>\n",
       "      <td>303.0</td>\n",
       "      <td>2014-03-21 10:13:01</td>\n",
       "      <td>303.0</td>\n",
       "      <td>2014-03-21 10:13:24</td>\n",
       "      <td>...</td>\n",
       "      <td>2014-03-21 10:13:36</td>\n",
       "      <td>303.0</td>\n",
       "      <td>2014-03-21 10:13:54</td>\n",
       "      <td>309.0</td>\n",
       "      <td>2014-03-21 10:14:01</td>\n",
       "      <td>303.0</td>\n",
       "      <td>2014-03-21 10:14:06</td>\n",
       "      <td>303.0</td>\n",
       "      <td>2014-03-21 10:14:24</td>\n",
       "      <td>34</td>\n",
       "    </tr>\n",
       "    <tr>\n",
       "      <th>4</th>\n",
       "      <td>1359</td>\n",
       "      <td>2013-12-13 09:52:28</td>\n",
       "      <td>925.0</td>\n",
       "      <td>2013-12-13 09:54:34</td>\n",
       "      <td>1240.0</td>\n",
       "      <td>2013-12-13 09:54:34</td>\n",
       "      <td>1360.0</td>\n",
       "      <td>2013-12-13 09:54:34</td>\n",
       "      <td>1344.0</td>\n",
       "      <td>2013-12-13 09:54:34</td>\n",
       "      <td>...</td>\n",
       "      <td>2013-12-13 09:54:34</td>\n",
       "      <td>1346.0</td>\n",
       "      <td>2013-12-13 09:54:34</td>\n",
       "      <td>1345.0</td>\n",
       "      <td>2013-12-13 09:54:34</td>\n",
       "      <td>1344.0</td>\n",
       "      <td>2013-12-13 09:58:19</td>\n",
       "      <td>1345.0</td>\n",
       "      <td>2013-12-13 09:58:19</td>\n",
       "      <td>601</td>\n",
       "    </tr>\n",
       "    <tr>\n",
       "      <th>5</th>\n",
       "      <td>11</td>\n",
       "      <td>2013-11-26 12:35:29</td>\n",
       "      <td>85.0</td>\n",
       "      <td>2013-11-26 12:35:31</td>\n",
       "      <td>52.0</td>\n",
       "      <td>2013-11-26 12:35:31</td>\n",
       "      <td>85.0</td>\n",
       "      <td>2013-11-26 12:35:32</td>\n",
       "      <td>11.0</td>\n",
       "      <td>2013-11-26 12:35:32</td>\n",
       "      <td>...</td>\n",
       "      <td>2013-11-26 12:35:32</td>\n",
       "      <td>11.0</td>\n",
       "      <td>2013-11-26 12:37:03</td>\n",
       "      <td>85.0</td>\n",
       "      <td>2013-11-26 12:37:03</td>\n",
       "      <td>10.0</td>\n",
       "      <td>2013-11-26 12:37:03</td>\n",
       "      <td>85.0</td>\n",
       "      <td>2013-11-26 12:37:04</td>\n",
       "      <td>273</td>\n",
       "    </tr>\n",
       "  </tbody>\n",
       "</table>\n",
       "<p>5 rows × 21 columns</p>\n",
       "</div>"
      ],
      "text/plain": [
       "            site1                time1    site2                time2    site3  \\\n",
       "session_id                                                                      \n",
       "1           23713  2014-03-24 15:22:40  23720.0  2014-03-24 15:22:48  23713.0   \n",
       "2            8726  2014-04-17 14:25:58   8725.0  2014-04-17 14:25:59    665.0   \n",
       "3             303  2014-03-21 10:12:24     19.0  2014-03-21 10:12:36    303.0   \n",
       "4            1359  2013-12-13 09:52:28    925.0  2013-12-13 09:54:34   1240.0   \n",
       "5              11  2013-11-26 12:35:29     85.0  2013-11-26 12:35:31     52.0   \n",
       "\n",
       "                          time3    site4                time4    site5  \\\n",
       "session_id                                                               \n",
       "1           2014-03-24 15:22:48  23713.0  2014-03-24 15:22:54  23720.0   \n",
       "2           2014-04-17 14:25:59   8727.0  2014-04-17 14:25:59     45.0   \n",
       "3           2014-03-21 10:12:54    303.0  2014-03-21 10:13:01    303.0   \n",
       "4           2013-12-13 09:54:34   1360.0  2013-12-13 09:54:34   1344.0   \n",
       "5           2013-11-26 12:35:31     85.0  2013-11-26 12:35:32     11.0   \n",
       "\n",
       "                          time5   ...                  time6    site7  \\\n",
       "session_id                        ...                                   \n",
       "1           2014-03-24 15:22:54   ...    2014-03-24 15:22:55  23713.0   \n",
       "2           2014-04-17 14:25:59   ...    2014-04-17 14:26:01     45.0   \n",
       "3           2014-03-21 10:13:24   ...    2014-03-21 10:13:36    303.0   \n",
       "4           2013-12-13 09:54:34   ...    2013-12-13 09:54:34   1346.0   \n",
       "5           2013-11-26 12:35:32   ...    2013-11-26 12:35:32     11.0   \n",
       "\n",
       "                          time7    site8                time8    site9  \\\n",
       "session_id                                                               \n",
       "1           2014-03-24 15:23:01  23713.0  2014-03-24 15:23:03  23713.0   \n",
       "2           2014-04-17 14:26:01   5320.0  2014-04-17 14:26:18   5320.0   \n",
       "3           2014-03-21 10:13:54    309.0  2014-03-21 10:14:01    303.0   \n",
       "4           2013-12-13 09:54:34   1345.0  2013-12-13 09:54:34   1344.0   \n",
       "5           2013-11-26 12:37:03     85.0  2013-11-26 12:37:03     10.0   \n",
       "\n",
       "                          time9   site10               time10 user_id  \n",
       "session_id                                                             \n",
       "1           2014-03-24 15:23:04  23713.0  2014-03-24 15:23:05     653  \n",
       "2           2014-04-17 14:26:47   5320.0  2014-04-17 14:26:48     198  \n",
       "3           2014-03-21 10:14:06    303.0  2014-03-21 10:14:24      34  \n",
       "4           2013-12-13 09:58:19   1345.0  2013-12-13 09:58:19     601  \n",
       "5           2013-11-26 12:37:03     85.0  2013-11-26 12:37:04     273  \n",
       "\n",
       "[5 rows x 21 columns]"
      ]
     },
     "execution_count": 113,
     "metadata": {},
     "output_type": "execute_result"
    }
   ],
   "source": [
    "train_df.head()"
   ]
  },
  {
   "cell_type": "markdown",
   "metadata": {},
   "source": [
    "Numbers in 'site' columns represent different sites. Site to number dictionary also provided.\n",
    "\n",
    "Our goal is predict user_id on test data and submit it to kaggle in class competition. Test data has similar format"
   ]
  },
  {
   "cell_type": "code",
   "execution_count": 114,
   "metadata": {
    "collapsed": false
   },
   "outputs": [
    {
     "name": "stdout",
     "output_type": "stream",
     "text": [
      "(46473, 20)\n"
     ]
    },
    {
     "data": {
      "text/html": [
       "<div>\n",
       "<style>\n",
       "    .dataframe thead tr:only-child th {\n",
       "        text-align: right;\n",
       "    }\n",
       "\n",
       "    .dataframe thead th {\n",
       "        text-align: left;\n",
       "    }\n",
       "\n",
       "    .dataframe tbody tr th {\n",
       "        vertical-align: top;\n",
       "    }\n",
       "</style>\n",
       "<table border=\"1\" class=\"dataframe\">\n",
       "  <thead>\n",
       "    <tr style=\"text-align: right;\">\n",
       "      <th></th>\n",
       "      <th>site1</th>\n",
       "      <th>time1</th>\n",
       "      <th>site2</th>\n",
       "      <th>time2</th>\n",
       "      <th>site3</th>\n",
       "      <th>time3</th>\n",
       "      <th>site4</th>\n",
       "      <th>time4</th>\n",
       "      <th>site5</th>\n",
       "      <th>time5</th>\n",
       "      <th>site6</th>\n",
       "      <th>time6</th>\n",
       "      <th>site7</th>\n",
       "      <th>time7</th>\n",
       "      <th>site8</th>\n",
       "      <th>time8</th>\n",
       "      <th>site9</th>\n",
       "      <th>time9</th>\n",
       "      <th>site10</th>\n",
       "      <th>time10</th>\n",
       "    </tr>\n",
       "    <tr>\n",
       "      <th>session_id</th>\n",
       "      <th></th>\n",
       "      <th></th>\n",
       "      <th></th>\n",
       "      <th></th>\n",
       "      <th></th>\n",
       "      <th></th>\n",
       "      <th></th>\n",
       "      <th></th>\n",
       "      <th></th>\n",
       "      <th></th>\n",
       "      <th></th>\n",
       "      <th></th>\n",
       "      <th></th>\n",
       "      <th></th>\n",
       "      <th></th>\n",
       "      <th></th>\n",
       "      <th></th>\n",
       "      <th></th>\n",
       "      <th></th>\n",
       "      <th></th>\n",
       "    </tr>\n",
       "  </thead>\n",
       "  <tbody>\n",
       "    <tr>\n",
       "      <th>1</th>\n",
       "      <td>9</td>\n",
       "      <td>2014-10-04 12:24:43</td>\n",
       "      <td>304.0</td>\n",
       "      <td>2014-10-04 12:25:34</td>\n",
       "      <td>308.0</td>\n",
       "      <td>2014-10-04 12:28:33</td>\n",
       "      <td>307.0</td>\n",
       "      <td>2014-10-04 12:28:33</td>\n",
       "      <td>91.0</td>\n",
       "      <td>2014-10-04 12:28:33</td>\n",
       "      <td>308.0</td>\n",
       "      <td>2014-10-04 12:28:34</td>\n",
       "      <td>312.0</td>\n",
       "      <td>2014-10-04 12:30:31</td>\n",
       "      <td>300.0</td>\n",
       "      <td>2014-10-04 12:31:30</td>\n",
       "      <td>305.0</td>\n",
       "      <td>2014-10-04 12:32:31</td>\n",
       "      <td>309.0</td>\n",
       "      <td>2014-10-04 12:34:31</td>\n",
       "    </tr>\n",
       "    <tr>\n",
       "      <th>2</th>\n",
       "      <td>838</td>\n",
       "      <td>2014-12-02 09:20:37</td>\n",
       "      <td>504.0</td>\n",
       "      <td>2014-12-02 09:20:38</td>\n",
       "      <td>68.0</td>\n",
       "      <td>2014-12-02 09:20:38</td>\n",
       "      <td>11.0</td>\n",
       "      <td>2014-12-02 09:20:38</td>\n",
       "      <td>838.0</td>\n",
       "      <td>2014-12-02 09:20:38</td>\n",
       "      <td>11.0</td>\n",
       "      <td>2014-12-02 09:20:40</td>\n",
       "      <td>838.0</td>\n",
       "      <td>2014-12-02 09:20:41</td>\n",
       "      <td>886.0</td>\n",
       "      <td>2014-12-02 09:20:42</td>\n",
       "      <td>27.0</td>\n",
       "      <td>2014-12-02 09:20:42</td>\n",
       "      <td>305.0</td>\n",
       "      <td>2014-12-02 09:20:42</td>\n",
       "    </tr>\n",
       "    <tr>\n",
       "      <th>3</th>\n",
       "      <td>190</td>\n",
       "      <td>2014-10-01 09:27:38</td>\n",
       "      <td>192.0</td>\n",
       "      <td>2014-10-01 09:27:38</td>\n",
       "      <td>8.0</td>\n",
       "      <td>2014-10-01 09:27:38</td>\n",
       "      <td>189.0</td>\n",
       "      <td>2014-10-01 09:27:38</td>\n",
       "      <td>191.0</td>\n",
       "      <td>2014-10-01 09:27:39</td>\n",
       "      <td>189.0</td>\n",
       "      <td>2014-10-01 09:27:39</td>\n",
       "      <td>190.0</td>\n",
       "      <td>2014-10-01 09:27:39</td>\n",
       "      <td>2375.0</td>\n",
       "      <td>2014-10-01 09:27:39</td>\n",
       "      <td>192.0</td>\n",
       "      <td>2014-10-01 09:27:39</td>\n",
       "      <td>8.0</td>\n",
       "      <td>2014-10-01 09:27:39</td>\n",
       "    </tr>\n",
       "    <tr>\n",
       "      <th>4</th>\n",
       "      <td>295</td>\n",
       "      <td>2014-10-02 14:34:17</td>\n",
       "      <td>295.0</td>\n",
       "      <td>2014-10-02 14:34:18</td>\n",
       "      <td>295.0</td>\n",
       "      <td>2014-10-02 14:34:19</td>\n",
       "      <td>295.0</td>\n",
       "      <td>2014-10-02 14:34:20</td>\n",
       "      <td>295.0</td>\n",
       "      <td>2014-10-02 14:34:21</td>\n",
       "      <td>295.0</td>\n",
       "      <td>2014-10-02 14:34:22</td>\n",
       "      <td>295.0</td>\n",
       "      <td>2014-10-02 14:34:23</td>\n",
       "      <td>295.0</td>\n",
       "      <td>2014-10-02 14:34:24</td>\n",
       "      <td>295.0</td>\n",
       "      <td>2014-10-02 14:34:25</td>\n",
       "      <td>295.0</td>\n",
       "      <td>2014-10-02 14:34:26</td>\n",
       "    </tr>\n",
       "    <tr>\n",
       "      <th>5</th>\n",
       "      <td>31</td>\n",
       "      <td>2014-05-19 17:50:21</td>\n",
       "      <td>3177.0</td>\n",
       "      <td>2014-05-19 17:50:21</td>\n",
       "      <td>3174.0</td>\n",
       "      <td>2014-05-19 17:50:21</td>\n",
       "      <td>32434.0</td>\n",
       "      <td>2014-05-19 17:50:22</td>\n",
       "      <td>27.0</td>\n",
       "      <td>2014-05-19 17:50:22</td>\n",
       "      <td>31.0</td>\n",
       "      <td>2014-05-19 17:50:22</td>\n",
       "      <td>5698.0</td>\n",
       "      <td>2014-05-19 17:50:25</td>\n",
       "      <td>5698.0</td>\n",
       "      <td>2014-05-19 17:50:26</td>\n",
       "      <td>5698.0</td>\n",
       "      <td>2014-05-19 17:50:27</td>\n",
       "      <td>4173.0</td>\n",
       "      <td>2014-05-19 17:50:27</td>\n",
       "    </tr>\n",
       "  </tbody>\n",
       "</table>\n",
       "</div>"
      ],
      "text/plain": [
       "            site1                time1   site2                time2   site3  \\\n",
       "session_id                                                                    \n",
       "1               9  2014-10-04 12:24:43   304.0  2014-10-04 12:25:34   308.0   \n",
       "2             838  2014-12-02 09:20:37   504.0  2014-12-02 09:20:38    68.0   \n",
       "3             190  2014-10-01 09:27:38   192.0  2014-10-01 09:27:38     8.0   \n",
       "4             295  2014-10-02 14:34:17   295.0  2014-10-02 14:34:18   295.0   \n",
       "5              31  2014-05-19 17:50:21  3177.0  2014-05-19 17:50:21  3174.0   \n",
       "\n",
       "                          time3    site4                time4  site5  \\\n",
       "session_id                                                             \n",
       "1           2014-10-04 12:28:33    307.0  2014-10-04 12:28:33   91.0   \n",
       "2           2014-12-02 09:20:38     11.0  2014-12-02 09:20:38  838.0   \n",
       "3           2014-10-01 09:27:38    189.0  2014-10-01 09:27:38  191.0   \n",
       "4           2014-10-02 14:34:19    295.0  2014-10-02 14:34:20  295.0   \n",
       "5           2014-05-19 17:50:21  32434.0  2014-05-19 17:50:22   27.0   \n",
       "\n",
       "                          time5  site6                time6   site7  \\\n",
       "session_id                                                            \n",
       "1           2014-10-04 12:28:33  308.0  2014-10-04 12:28:34   312.0   \n",
       "2           2014-12-02 09:20:38   11.0  2014-12-02 09:20:40   838.0   \n",
       "3           2014-10-01 09:27:39  189.0  2014-10-01 09:27:39   190.0   \n",
       "4           2014-10-02 14:34:21  295.0  2014-10-02 14:34:22   295.0   \n",
       "5           2014-05-19 17:50:22   31.0  2014-05-19 17:50:22  5698.0   \n",
       "\n",
       "                          time7   site8                time8   site9  \\\n",
       "session_id                                                             \n",
       "1           2014-10-04 12:30:31   300.0  2014-10-04 12:31:30   305.0   \n",
       "2           2014-12-02 09:20:41   886.0  2014-12-02 09:20:42    27.0   \n",
       "3           2014-10-01 09:27:39  2375.0  2014-10-01 09:27:39   192.0   \n",
       "4           2014-10-02 14:34:23   295.0  2014-10-02 14:34:24   295.0   \n",
       "5           2014-05-19 17:50:25  5698.0  2014-05-19 17:50:26  5698.0   \n",
       "\n",
       "                          time9  site10               time10  \n",
       "session_id                                                    \n",
       "1           2014-10-04 12:32:31   309.0  2014-10-04 12:34:31  \n",
       "2           2014-12-02 09:20:42   305.0  2014-12-02 09:20:42  \n",
       "3           2014-10-01 09:27:39     8.0  2014-10-01 09:27:39  \n",
       "4           2014-10-02 14:34:25   295.0  2014-10-02 14:34:26  \n",
       "5           2014-05-19 17:50:27  4173.0  2014-05-19 17:50:27  "
      ]
     },
     "execution_count": 114,
     "metadata": {},
     "output_type": "execute_result"
    }
   ],
   "source": [
    "print(test_df.shape)\n",
    "test_df.head()"
   ]
  },
  {
   "cell_type": "markdown",
   "metadata": {},
   "source": [
    "**2. Data processing**\n",
    "\n",
    "Our next step is extraxting features we are interesting in.\n",
    "\n",
    "First, let's use the time given. We will work only with time session starts, but extract two features from it: hour and day of week."
   ]
  },
  {
   "cell_type": "code",
   "execution_count": 115,
   "metadata": {
    "collapsed": false
   },
   "outputs": [],
   "source": [
    "train_df['hour'] = train_df['time1'].apply(lambda x: pd.to_datetime(x).hour)\n",
    "train_df['day_of_week'] = train_df['time1'].apply(lambda x: pd.to_datetime(x).dayofweek)"
   ]
  },
  {
   "cell_type": "markdown",
   "metadata": {},
   "source": [
    "Another feature we are going to use is a number of unique sites visited per session."
   ]
  },
  {
   "cell_type": "code",
   "execution_count": 116,
   "metadata": {
    "collapsed": false
   },
   "outputs": [
    {
     "name": "stderr",
     "output_type": "stream",
     "text": [
      "182793it [00:20, 8750.31it/s]\n"
     ]
    }
   ],
   "source": [
    "counter = []\n",
    "for index, row in tqdm(train_df[['site' + str(x) for x in range(1,11)]].iterrows()):\n",
    "    count = len(np.unique(row.as_matrix()))\n",
    "    if row.as_matrix()[9] == 0:\n",
    "        count -= 1\n",
    "    counter.append(count)\n",
    "train_df['unique_sites'] = counter"
   ]
  },
  {
   "cell_type": "markdown",
   "metadata": {
    "collapsed": true
   },
   "source": [
    "Let's visualise new features we've created."
   ]
  },
  {
   "cell_type": "code",
   "execution_count": 11,
   "metadata": {
    "collapsed": false
   },
   "outputs": [
    {
     "data": {
      "image/png": "[encoded data removed]",
      "text/plain": [
       "<matplotlib.figure.Figure at 0x1cc699327f0>"
      ]
     },
     "metadata": {},
     "output_type": "display_data"
    }
   ],
   "source": [
    "data = train_df['unique_sites']\n",
    "plt.xlabel('Number of unique sitese per session')\n",
    "plt.ylabel('Number of sessions')\n",
    "plt.title('Number of unique sites distribution histogram', fontsize=16)\n",
    "plt.hist(data, color='aqua')\n",
    "plt.show()"
   ]
  },
  {
   "cell_type": "code",
   "execution_count": 12,
   "metadata": {
    "collapsed": false
   },
   "outputs": [
    {
     "data": {
      "image/png": "[encoded data removed]",
      "text/plain": [
       "<matplotlib.figure.Figure at 0x1cc699548d0>"
      ]
     },
     "metadata": {},
     "output_type": "display_data"
    }
   ],
   "source": [
    "data = train_df['hour']\n",
    "plt.xlabel('Hour session begins')\n",
    "plt.ylabel('Number of sessions')\n",
    "plt.title('Hour of sessions starts distribution histogram', fontsize=16)\n",
    "plt.hist(data, color='darkgreen')\n",
    "plt.show()"
   ]
  },
  {
   "cell_type": "code",
   "execution_count": 17,
   "metadata": {
    "collapsed": false
   },
   "outputs": [
    {
     "data": {
      "image/png": "[encoded data removed]",
      "text/plain": [
       "<matplotlib.figure.Figure at 0x1cc6c0a2cc0>"
      ]
     },
     "metadata": {},
     "output_type": "display_data"
    }
   ],
   "source": [
    "days_of_week = ['Mon', 'Tue', 'Wed', 'Thu', 'Fri', 'Sat', 'Sun']\n",
    "data = train_df['day_of_week']\n",
    "plt.xlabel('Day of week session starts')\n",
    "plt.ylabel('Number of sessions')\n",
    "plt.title('Day of week session starts distribution histogram', fontsize=16)\n",
    "plt.hist(data, color='sienna', bins=list(range(8)), align='left')\n",
    "plt.xticks(range(7), days_of_week)\n",
    "plt.show()"
   ]
  },
  {
   "cell_type": "markdown",
   "metadata": {},
   "source": [
    "Now let's check, does new features help us to distinguish users or not."
   ]
  },
  {
   "cell_type": "code",
   "execution_count": 28,
   "metadata": {
    "collapsed": false
   },
   "outputs": [
    {
     "data": {
      "image/png": "[encoded data removed]",
      "text/plain": [
       "<matplotlib.figure.Figure at 0x1cc756a0ac8>"
      ]
     },
     "metadata": {},
     "output_type": "display_data"
    }
   ],
   "source": [
    "#Tree features put together for 12 random users\n",
    "fig, axes = plt.subplots(nrows=3, ncols=4, figsize=(16, 10), sharex=True, sharey=True)\n",
    "idx = 0\n",
    "for i in  np.random.choice(train_df.user_id.values, 12):\n",
    "    sub_df = train_df[train_df.user_id == i]\n",
    "    axes[idx//4, idx%4].bar(list(range(3)), [sub_df.hour.mean(), sub_df.day_of_week.mean(), sub_df.unique_sites.mean()],\n",
    "                           color='darkcyan')\n",
    "    idx +=1"
   ]
  },
  {
   "cell_type": "code",
   "execution_count": 29,
   "metadata": {
    "collapsed": false
   },
   "outputs": [
    {
     "data": {
      "image/png": "[encoded data removed]",
      "text/plain": [
       "<matplotlib.figure.Figure at 0x1cc7921deb8>"
      ]
     },
     "metadata": {},
     "output_type": "display_data"
    }
   ],
   "source": [
    "#Histograms of day of week sessions starts for 12 random users.\n",
    "fig, axes = plt.subplots(nrows=3, ncols=4, figsize=(16, 10), sharex=True, sharey=True)\n",
    "idx = 0\n",
    "for i in  np.random.choice(train_df.user_id.values, 12):\n",
    "    sub_df = train_df[train_df.user_id == i]\n",
    "    axes[idx//4, idx%4].hist(sub_df['day_of_week'], color='forestgreen', align='left', bins=list(range(8)))\n",
    "    axes[idx//4, idx%4].set_xlabel('Day of week')\n",
    "    axes[idx//4, idx%4].set_ylabel('Number of sessions')\n",
    "    axes[idx//4, idx%4].set_xticks(list(range(8)))\n",
    "    axes[idx//4, idx%4].set_xticklabels(days_of_week)\n",
    "    axes[idx//4, idx%4].set_xlim((-1, 7))\n",
    "    idx +=1"
   ]
  },
  {
   "cell_type": "code",
   "execution_count": 30,
   "metadata": {
    "collapsed": false
   },
   "outputs": [
    {
     "data": {
      "image/png": "[encoded data removed]",
      "text/plain": [
       "<matplotlib.figure.Figure at 0x1cc75418eb8>"
      ]
     },
     "metadata": {},
     "output_type": "display_data"
    }
   ],
   "source": [
    "#Histograms of day of week sessions starts for 12 random users.\n",
    "fig, axes = plt.subplots(nrows=3, ncols=4, figsize=(16, 10), sharex=True, sharey=True)\n",
    "idx = 0\n",
    "for i in  np.random.choice(train_df.user_id.values, 12):\n",
    "    sub_df = train_df[train_df.user_id == i]\n",
    "    axes[idx//4, idx%4].hist(sub_df['hour'], color='coral')\n",
    "    axes[idx//4, idx%4].set_xlabel('Hour session starts')\n",
    "    axes[idx//4, idx%4].set_ylabel('Number of sessions')\n",
    "    idx +=1"
   ]
  },
  {
   "cell_type": "code",
   "execution_count": 31,
   "metadata": {
    "collapsed": false
   },
   "outputs": [
    {
     "data": {
      "image/png": "[encoded data removed]",
      "text/plain": [
       "<matplotlib.figure.Figure at 0x1cc756d5940>"
      ]
     },
     "metadata": {},
     "output_type": "display_data"
    }
   ],
   "source": [
    "#Histograms of number of unique sites visited per sessionfor 12 random users.\n",
    "fig, axes = plt.subplots(nrows=3, ncols=4, figsize=(16, 10), sharex=True, sharey=True)\n",
    "idx = 0\n",
    "for i in  np.random.choice(train_df.user_id.values, 12):\n",
    "    sub_df = train_df[train_df.user_id == i]\n",
    "    axes[idx//4, idx%4].hist(sub_df['unique_sites'], color='olive')\n",
    "    axes[idx//4, idx%4].set_xlabel('Number of unique sites visited')\n",
    "    axes[idx//4, idx%4].set_ylabel('Number of sessions')\n",
    "    idx +=1"
   ]
  },
  {
   "cell_type": "markdown",
   "metadata": {},
   "source": [
    "So, as we could see, features we build could help us distinguish users. Now we need to do same transformation for test data."
   ]
  },
  {
   "cell_type": "code",
   "execution_count": 117,
   "metadata": {
    "collapsed": false
   },
   "outputs": [
    {
     "name": "stderr",
     "output_type": "stream",
     "text": [
      "46473it [00:05, 8777.15it/s]\n"
     ]
    }
   ],
   "source": [
    "test_df['hour'] = test_df['time1'].apply(lambda x: pd.to_datetime(x).hour)\n",
    "test_df['day_of_week'] = test_df['time1'].apply(lambda x: pd.to_datetime(x).dayofweek)\n",
    "counter = []\n",
    "for index, row in tqdm(test_df[['site' + str(x) for x in range(1,11)]].iterrows()):\n",
    "    count = len(np.unique(row.as_matrix()))\n",
    "    if row.as_matrix()[9] == 0:\n",
    "        count -= 1\n",
    "    counter.append(count)\n",
    "test_df['unique_sites'] = counter"
   ]
  },
  {
   "cell_type": "markdown",
   "metadata": {},
   "source": [
    "*Addition*\n",
    "With the train and test csv table, raw data is also provided. It consist of csv files with logs for each user."
   ]
  },
  {
   "cell_type": "code",
   "execution_count": 36,
   "metadata": {
    "collapsed": false
   },
   "outputs": [
    {
     "data": {
      "text/html": [
       "<div>\n",
       "<style>\n",
       "    .dataframe thead tr:only-child th {\n",
       "        text-align: right;\n",
       "    }\n",
       "\n",
       "    .dataframe thead th {\n",
       "        text-align: left;\n",
       "    }\n",
       "\n",
       "    .dataframe tbody tr th {\n",
       "        vertical-align: top;\n",
       "    }\n",
       "</style>\n",
       "<table border=\"1\" class=\"dataframe\">\n",
       "  <thead>\n",
       "    <tr style=\"text-align: right;\">\n",
       "      <th></th>\n",
       "      <th>timestamp</th>\n",
       "      <th>site</th>\n",
       "    </tr>\n",
       "  </thead>\n",
       "  <tbody>\n",
       "    <tr>\n",
       "      <th>0</th>\n",
       "      <td>2014-01-30 13:36:20</td>\n",
       "      <td>go.microsoft.com</td>\n",
       "    </tr>\n",
       "    <tr>\n",
       "      <th>1</th>\n",
       "      <td>2014-01-30 13:36:20</td>\n",
       "      <td>windows.microsoft.com</td>\n",
       "    </tr>\n",
       "    <tr>\n",
       "      <th>2</th>\n",
       "      <td>2014-01-30 13:36:20</td>\n",
       "      <td>res1.windows.microsoft.com</td>\n",
       "    </tr>\n",
       "    <tr>\n",
       "      <th>3</th>\n",
       "      <td>2014-01-30 13:36:20</td>\n",
       "      <td>js.microsoft.com</td>\n",
       "    </tr>\n",
       "    <tr>\n",
       "      <th>4</th>\n",
       "      <td>2014-01-30 13:36:20</td>\n",
       "      <td>ajax.microsoft.com</td>\n",
       "    </tr>\n",
       "  </tbody>\n",
       "</table>\n",
       "</div>"
      ],
      "text/plain": [
       "             timestamp                        site\n",
       "0  2014-01-30 13:36:20            go.microsoft.com\n",
       "1  2014-01-30 13:36:20       windows.microsoft.com\n",
       "2  2014-01-30 13:36:20  res1.windows.microsoft.com\n",
       "3  2014-01-30 13:36:20            js.microsoft.com\n",
       "4  2014-01-30 13:36:20          ajax.microsoft.com"
      ]
     },
     "execution_count": 36,
     "metadata": {},
     "output_type": "execute_result"
    }
   ],
   "source": [
    "PATH_TO_DATA = 'C:/Users/ArseniiM/Python/C6/Project1'\n",
    "user1_data = pd.read_csv(os.path.join(PATH_TO_DATA, 'train/user0001.csv'))\n",
    "user1_data.head()"
   ]
  },
  {
   "cell_type": "markdown",
   "metadata": {},
   "source": [
    "One of possible ways of improving prediction model if adjustment of basic parameters like session length, window length or maximum session time. Example function of another way of data table construction is given below."
   ]
  },
  {
   "cell_type": "code",
   "execution_count": 3,
   "metadata": {
    "collapsed": true
   },
   "outputs": [],
   "source": [
    "def prepare_train_set_with_fe(path_to_csv_files, site_freq_path, feature_names,\n",
    "                                    session_length=10, window_size=10):\n",
    "    site_dict = pickle.load( open( site_freq_path, \"rb\" ) )\n",
    "    big_list = np.array([0] * (session_length + 4))\n",
    "    \n",
    "    for filepath in glob(path_to_csv_files, recursive=False):\n",
    "        user = int(re.search(\"([0-9]+)\\.csv$\", filepath).group(1))\n",
    "        data = pd.read_csv(filepath)\n",
    "        sites = np.hstack((data.site.values, np.array(['no_site']*session_length)))\n",
    "        count = 0\n",
    "        timeser = pd.to_datetime(data.timestamp)\n",
    "        while count < data.shape[0]:\n",
    "            #ses_time = int((timeser[min(len(timeser)-1,count+session_length-1)] - timeser[count]).total_seconds())\n",
    "            un_sites = len(np.unique([site_dict[sites[i]][0] for i in range(count, min(len(timeser),count+session_length))]))\n",
    "            hour = min(timeser[count], timeser[min(len(timeser)-1,count+session_length-1)]).hour\n",
    "            dow = min(timeser[count], timeser[min(len(timeser)-1,count+session_length-1)]).dayofweek\n",
    "            loc_list = np.array([site_dict[sites[i]][0] for i in range(count, count+session_length)]+\n",
    "                                [un_sites]+[hour]+[dow]+[user])\n",
    "            big_list = np.vstack((big_list, loc_list))\n",
    "            \n",
    "            count += window_size\n",
    "        \n",
    "    return pd.DataFrame(big_list[1:,:], columns=['site' + str(x) for x in range(1, 11)] + feature_names+['user_id'])"
   ]
  },
  {
   "cell_type": "markdown",
   "metadata": {},
   "source": [
    "**Model selection**"
   ]
  },
  {
   "cell_type": "markdown",
   "metadata": {},
   "source": [
    "In this part we are going to try different prediction models for our task. To save time, we will work with smaller dataset which consist of only ten users. We will take sprased sites matrix as a basic data and add up site sequence and new constructed  features as additional data."
   ]
  },
  {
   "cell_type": "code",
   "execution_count": 14,
   "metadata": {
    "collapsed": false
   },
   "outputs": [
    {
     "name": "stdout",
     "output_type": "stream",
     "text": [
      "Wall time: 3.94 s\n"
     ]
    }
   ],
   "source": [
    "%%time\n",
    "feature_names = ['unique_sites', 'hour', 'day_of_week']\n",
    "data_10us = prepare_train_set_with_fe(os.path.join(PATH_TO_DATA, '10users/*'), os.path.join(PATH_TO_DATA, 'site_freq_10users.pkl'),\n",
    "                          feature_names,session_length=10, window_size=10)\n",
    "y_10us = data_10us.user_id.values"
   ]
  },
  {
   "cell_type": "markdown",
   "metadata": {
    "collapsed": true
   },
   "source": [
    "Next step we need to vectorize sites features to make it bag of words form."
   ]
  },
  {
   "cell_type": "code",
   "execution_count": 7,
   "metadata": {
    "collapsed": true
   },
   "outputs": [],
   "source": [
    "def matrix_vect(matrix):\n",
    "    matrix = np.array(matrix)\n",
    "    data_list = []\n",
    "    row_list = []\n",
    "    col_list = []\n",
    "    for i in range(matrix.shape[0]):\n",
    "        freq = np.unique(matrix[i], return_counts=True)\n",
    "        for j in range(len(freq[0])):\n",
    "            if freq[0][j] != 0:\n",
    "                data_list.append(freq[1][j])\n",
    "                row_list.append(i)\n",
    "                col_list.append(freq[0][j]-1)\n",
    "    result = csr_matrix((data_list, (row_list, col_list)), shape=(matrix.shape[0], matrix.max()))\n",
    "    \n",
    "    return result"
   ]
  },
  {
   "cell_type": "code",
   "execution_count": 15,
   "metadata": {
    "collapsed": true
   },
   "outputs": [],
   "source": [
    "X_10us_sparse = matrix_vect(data_10us[['site' + str(x) for x in range(1,11)]])"
   ]
  },
  {
   "cell_type": "code",
   "execution_count": 16,
   "metadata": {
    "collapsed": false
   },
   "outputs": [],
   "source": [
    "X_10us_ss_af = hstack([X_10us_sparse, csr_matrix(data_10us.as_matrix()[:,:-1])])"
   ]
  },
  {
   "cell_type": "code",
   "execution_count": 17,
   "metadata": {
    "collapsed": true
   },
   "outputs": [],
   "source": [
    "X_10us_af = hstack([X_10us_sparse, csr_matrix(data_10us[['day_of_week','hour','unique_sites']].as_matrix()[:,:])])"
   ]
  },
  {
   "cell_type": "code",
   "execution_count": 18,
   "metadata": {
    "collapsed": true
   },
   "outputs": [],
   "source": [
    "X_10us_ss = hstack([X_10us_sparse, csr_matrix(data_10us[['site' + str(x) for x in range(1,11)]].as_matrix()[:,:])])"
   ]
  },
  {
   "cell_type": "code",
   "execution_count": 26,
   "metadata": {
    "collapsed": false
   },
   "outputs": [],
   "source": [
    "X_train, X_valid, X_train_af, X_valid_af,\\\n",
    "X_train_ss, X_valid_ss, X_train_ss_af, X_valid_ss_af,\\\n",
    "y_train, y_valid = train_test_split(X_10us_sparse, X_10us_af, X_10us_ss,\n",
    "                                    X_10us_ss_af, y_10us,test_size=0.3, \n",
    "                                                     random_state=7, stratify=y_10us)"
   ]
  },
  {
   "cell_type": "markdown",
   "metadata": {},
   "source": [
    "Define folding function we use to perform cross-validation"
   ]
  },
  {
   "cell_type": "code",
   "execution_count": 21,
   "metadata": {
    "collapsed": false
   },
   "outputs": [],
   "source": [
    "skf = StratifiedKFold(n_splits=3, shuffle=True, random_state=17)"
   ]
  },
  {
   "cell_type": "markdown",
   "metadata": {},
   "source": [
    "As a first step let's try n neighbors classifier with different number of neighbors."
   ]
  },
  {
   "cell_type": "code",
   "execution_count": 65,
   "metadata": {
    "collapsed": false
   },
   "outputs": [
    {
     "name": "stdout",
     "output_type": "stream",
     "text": [
      "0.661656279913 0.67243422612\n",
      "0.68085726571 0.694477364304\n",
      "0.67181136715 0.67053804219\n",
      "0.60546351984 0.619578099076\n",
      "0.561265703976 0.573832661768\n"
     ]
    }
   ],
   "source": [
    "#Only site vectorized data\n",
    "from sklearn.neighbors import KNeighborsClassifier\n",
    "n_neighbors = [1, 5, 10, 50, 100]\n",
    "for n in n_neighbors:\n",
    "    knn = KNeighborsClassifier(n_neighbors=n, n_jobs=-1)\n",
    "    cvs = cross_val_score(knn, X_train, y_train, cv=skf)\n",
    "    knn.fit(X_train, y_train)\n",
    "    cvs2 = accuracy_score(y_valid, knn.predict(X_valid))\n",
    "    print(cvs.mean(), cvs2)"
   ]
  },
  {
   "cell_type": "code",
   "execution_count": 66,
   "metadata": {
    "collapsed": false
   },
   "outputs": [
    {
     "name": "stdout",
     "output_type": "stream",
     "text": [
      "0.422274643719 0.430433752074\n",
      "0.423188473765 0.438255510785\n",
      "0.415262473777 0.425456269258\n",
      "0.351350807221 0.369044797345\n",
      "0.29882054861 0.328750888836\n"
     ]
    }
   ],
   "source": [
    "#Site vectorized plus site sequence\n",
    "for n in n_neighbors:\n",
    "    knn = KNeighborsClassifier(n_neighbors=n, n_jobs=-1)\n",
    "    cvs = cross_val_score(knn, X_train_ss, y_train, cv=skf)\n",
    "    knn.fit(X_train_ss, y_train)\n",
    "    cvs2 = accuracy_score(y_valid, knn.predict(X_valid_ss))\n",
    "    print(cvs.mean(), cvs2)"
   ]
  },
  {
   "cell_type": "code",
   "execution_count": 67,
   "metadata": {
    "collapsed": false
   },
   "outputs": [
    {
     "name": "stdout",
     "output_type": "stream",
     "text": [
      "0.750557502617 0.758236548945\n",
      "0.743651942865 0.764636169708\n",
      "0.72231362126 0.744489215454\n",
      "0.63533864984 0.657975823655\n",
      "0.592763726058 0.607252903532\n"
     ]
    }
   ],
   "source": [
    "#Site vectorized plus additional features\n",
    "for n in n_neighbors:\n",
    "    knn = KNeighborsClassifier(n_neighbors=n, n_jobs=-1)\n",
    "    cvs = cross_val_score(knn, X_train_af, y_train, cv=skf)\n",
    "    knn.fit(X_train_af, y_train)\n",
    "    cvs2 = accuracy_score(y_valid, knn.predict(X_valid_af))\n",
    "    print(cvs.mean(), cvs2)"
   ]
  },
  {
   "cell_type": "code",
   "execution_count": 68,
   "metadata": {
    "collapsed": false
   },
   "outputs": [
    {
     "name": "stdout",
     "output_type": "stream",
     "text": [
      "0.436704186283 0.449632614364\n",
      "0.436804729242 0.454847120171\n",
      "0.427760161418 0.440151694714\n",
      "0.35643034734 0.378051671012\n",
      "0.303392546382 0.332069210713\n"
     ]
    }
   ],
   "source": [
    "#Site vectorized plus site sequence and additional features\n",
    "for n in n_neighbors:\n",
    "    knn = KNeighborsClassifier(n_neighbors=n, n_jobs=-1)\n",
    "    cvs = cross_val_score(knn, X_train_ss_af, y_train, cv=skf)\n",
    "    knn.fit(X_train_ss_af, y_train)\n",
    "    cvs2 = accuracy_score(y_valid, knn.predict(X_valid_ss_af))\n",
    "    print(cvs.mean(), cvs2)"
   ]
  },
  {
   "cell_type": "markdown",
   "metadata": {},
   "source": [
    "So, we obtain two important results:\n",
    "\n",
    "-N neighbors classifier gives us the best result with small number neighbors, less the 10\n",
    "\n",
    "-Additional features we constructed improve our prediction accuracy, while site sequence features only spoil data. Later on we will try to use it by exctracting n-grams."
   ]
  },
  {
   "cell_type": "markdown",
   "metadata": {},
   "source": [
    "Let's try random forest classifier as a next step"
   ]
  },
  {
   "cell_type": "code",
   "execution_count": 70,
   "metadata": {
    "collapsed": false
   },
   "outputs": [
    {
     "name": "stdout",
     "output_type": "stream",
     "text": [
      "0.725767120504 0.711780042664\n",
      "0.757264783581 0.753733112112\n",
      "0.803393619183 0.804219009244\n",
      "0.804917699655 0.799241526428\n"
     ]
    }
   ],
   "source": [
    "from sklearn.ensemble import RandomForestClassifier\n",
    "rfc1 = RandomForestClassifier(n_estimators=100, random_state=17, oob_score=True)\n",
    "rfc1.fit(X_train, y_train)\n",
    "print(rfc1.oob_score_, accuracy_score(y_valid, rfc1.predict(X_valid)))\n",
    "\n",
    "rfc2 = RandomForestClassifier(n_estimators=100, random_state=17, oob_score=True)\n",
    "rfc2.fit(X_train_ss, y_train)\n",
    "print(rfc2.oob_score_, accuracy_score(y_valid, rfc2.predict(X_valid_ss)))\n",
    "\n",
    "rfc3 = RandomForestClassifier(n_estimators=100, random_state=17, oob_score=True)\n",
    "rfc3.fit(X_train_af, y_train)\n",
    "print(rfc3.oob_score_, accuracy_score(y_valid, rfc3.predict(X_valid_af)))\n",
    "\n",
    "rfc4 = RandomForestClassifier(n_estimators=100, random_state=17, oob_score=True)\n",
    "rfc4.fit(X_train_ss_af, y_train)\n",
    "print(rfc4.oob_score_, accuracy_score(y_valid, rfc4.predict(X_valid_ss_af)))"
   ]
  },
  {
   "cell_type": "markdown",
   "metadata": {},
   "source": [
    "As we could observe, random forest work differently and site sequence data doesn't spoil it's prediction accuracy, but also couldn't improve it versus additional features.\n",
    "\n",
    "As a next step we could try **logistic regression**."
   ]
  },
  {
   "cell_type": "code",
   "execution_count": 27,
   "metadata": {
    "collapsed": false
   },
   "outputs": [
    {
     "name": "stdout",
     "output_type": "stream",
     "text": [
      "0.764888732699 0.778620526191\n",
      "0.758485792331 0.761554870822\n",
      "0.779521743944 0.78810144584\n",
      "0.777082779652 0.782649917042\n"
     ]
    }
   ],
   "source": [
    "from sklearn.linear_model import LogisticRegression, LogisticRegressionCV\n",
    "\n",
    "logit1 = LogisticRegression(random_state=17)\n",
    "cvs = cross_val_score(logit1, X_train, y_train, cv=skf)\n",
    "logit1.fit(X_train, y_train)\n",
    "acc_sc = accuracy_score(y_valid, logit1.predict(X_valid))\n",
    "print(cvs.mean(), acc_sc)\n",
    "\n",
    "logit2 = LogisticRegression(random_state=17)\n",
    "cvs = cross_val_score(logit2, X_train_ss, y_train, cv=skf)\n",
    "logit2.fit(X_train_ss, y_train)\n",
    "acc_sc = accuracy_score(y_valid, logit2.predict(X_valid_ss))\n",
    "print(cvs.mean(), acc_sc)\n",
    "\n",
    "logit3 = LogisticRegression(random_state=17)\n",
    "cvs = cross_val_score(logit3, X_train_af, y_train, cv=skf)\n",
    "logit3.fit(X_train_af, y_train)\n",
    "acc_sc = accuracy_score(y_valid, logit3.predict(X_valid_af))\n",
    "print(cvs.mean(), acc_sc)\n",
    "\n",
    "logit4 = LogisticRegression(random_state=17)\n",
    "cvs = cross_val_score(logit4, X_train_ss_af, y_train, cv=skf)\n",
    "logit4.fit(X_train_ss_af, y_train)\n",
    "acc_sc = accuracy_score(y_valid, logit4.predict(X_valid_ss_af))\n",
    "print(cvs.mean(), acc_sc)"
   ]
  },
  {
   "cell_type": "markdown",
   "metadata": {},
   "source": [
    "Site sequence parametr doesn't give us any improvment, but also doesn't spoil prediction accuracy. Let's use our best data set to choose regularization parameter C."
   ]
  },
  {
   "cell_type": "code",
   "execution_count": 74,
   "metadata": {
    "collapsed": false
   },
   "outputs": [
    {
     "data": {
      "image/png": "[encoded data removed]",
      "text/plain": [
       "<matplotlib.figure.Figure at 0x1d641073470>"
      ]
     },
     "metadata": {},
     "output_type": "display_data"
    }
   ],
   "source": [
    "logit_c_values1 = np.logspace(-4, 2, 10)\n",
    "\n",
    "logit_grid_searcher1 = LogisticRegressionCV(Cs=logit_c_values1, multi_class='multinomial', random_state=17, cv=skf, n_jobs=-1) \n",
    "logit_grid_searcher1.fit(X_train_af, y_train)\n",
    "\n",
    "logit_mean_cv_scores1 = []\n",
    "scores = logit_grid_searcher1.scores_[31]\n",
    "for i in range(10):\n",
    "    logit_mean_cv_scores1.append(np.array([scores[0][i], scores[1][i], scores[2][i]]).mean())\n",
    "    \n",
    "plt.plot(logit_c_values1, logit_mean_cv_scores1)\n",
    "plt.grid()\n",
    "plt.xscale('log')"
   ]
  },
  {
   "cell_type": "markdown",
   "metadata": {},
   "source": [
    "So, we got best score somewhere between 0 and 10, let's do further search."
   ]
  },
  {
   "cell_type": "code",
   "execution_count": 81,
   "metadata": {
    "collapsed": false
   },
   "outputs": [
    {
     "data": {
      "image/png": "[encoded data removed]",
      "text/plain": [
       "<matplotlib.figure.Figure at 0x1d648e8f898>"
      ]
     },
     "metadata": {},
     "output_type": "display_data"
    }
   ],
   "source": [
    "logit_c_values1 = np.linspace(0, 10, 21)\n",
    "\n",
    "logit_grid_searcher1 = LogisticRegressionCV(Cs=logit_c_values1, multi_class='multinomial', random_state=17, cv=skf, n_jobs=-1) \n",
    "logit_grid_searcher1.fit(X_train_af, y_train)\n",
    "\n",
    "logit_mean_cv_scores1 = []\n",
    "scores = logit_grid_searcher1.scores_[31]\n",
    "for i in range(21):\n",
    "    logit_mean_cv_scores1.append(np.array([scores[0][i], scores[1][i], scores[2][i]]).mean())\n",
    "    \n",
    "plt.plot(logit_c_values1, logit_mean_cv_scores1)\n",
    "plt.grid()"
   ]
  },
  {
   "cell_type": "code",
   "execution_count": 84,
   "metadata": {
    "collapsed": false
   },
   "outputs": [
    {
     "data": {
      "text/plain": [
       "(0.7819577056321857, 7)"
      ]
     },
     "execution_count": 84,
     "metadata": {},
     "output_type": "execute_result"
    }
   ],
   "source": [
    "np.amax(logit_mean_cv_scores1), np.argmax(logit_mean_cv_scores1)"
   ]
  },
  {
   "cell_type": "markdown",
   "metadata": {},
   "source": [
    "So the best C is 3.5, let's see what accuraccy we could get with this parameter"
   ]
  },
  {
   "cell_type": "code",
   "execution_count": 85,
   "metadata": {
    "collapsed": false
   },
   "outputs": [
    {
     "name": "stdout",
     "output_type": "stream",
     "text": [
      "0.779316666212 0.7918938137\n"
     ]
    }
   ],
   "source": [
    "logit2 = LogisticRegression(random_state=17, C=3.5)\n",
    "cvs2 = cross_val_score(logit2, X_train_af, y_train, cv=skf)\n",
    "logit2.fit(X_train_af, y_train)\n",
    "acc_sc2 = accuracy_score(y_valid, logit2.predict(X_valid_af))\n",
    "print(cvs2.mean(), acc_sc2)"
   ]
  },
  {
   "cell_type": "markdown",
   "metadata": {},
   "source": [
    "This accuracy is higher then one we got before parameter selection but still slightly less then random forest best result.\n",
    "\n",
    "The next step is **Support vector machine**."
   ]
  },
  {
   "cell_type": "code",
   "execution_count": 86,
   "metadata": {
    "collapsed": false
   },
   "outputs": [
    {
     "name": "stdout",
     "output_type": "stream",
     "text": [
      "0.75777667065 0.770324721498\n",
      "0.199425733695 0.272813462906\n",
      "0.770477548263 0.779568618156\n",
      "0.280917299793 0.374970372126\n"
     ]
    }
   ],
   "source": [
    "from sklearn.svm import LinearSVC\n",
    "\n",
    "svm = LinearSVC(C=1, random_state=17)\n",
    "cvs = cross_val_score(svm, X_train, y_train, cv=skf)\n",
    "svm.fit(X_train, y_train)\n",
    "acc_sc = accuracy_score(y_valid, svm.predict(X_valid))\n",
    "print(cvs.mean(), acc_sc)\n",
    "\n",
    "svm = LinearSVC(C=1, random_state=17)\n",
    "cvs = cross_val_score(svm, X_train_ss, y_train, cv=skf)\n",
    "svm.fit(X_train_ss, y_train)\n",
    "acc_sc = accuracy_score(y_valid, svm.predict(X_valid_ss))\n",
    "print(cvs.mean(), acc_sc)\n",
    "\n",
    "svm = LinearSVC(C=1, random_state=17)\n",
    "cvs = cross_val_score(svm, X_train_af, y_train, cv=skf)\n",
    "svm.fit(X_train_af, y_train)\n",
    "acc_sc = accuracy_score(y_valid, svm.predict(X_valid_af))\n",
    "print(cvs.mean(), acc_sc)\n",
    "\n",
    "svm = LinearSVC(C=1, random_state=17)\n",
    "cvs = cross_val_score(svm, X_train_ss_af, y_train, cv=skf)\n",
    "svm.fit(X_train_ss_af, y_train)\n",
    "acc_sc = accuracy_score(y_valid, svm.predict(X_valid_ss_af))\n",
    "print(cvs.mean(), acc_sc)"
   ]
  },
  {
   "cell_type": "markdown",
   "metadata": {},
   "source": [
    "As we could see, site sequence features really spoils the result, which is not surprising. Let's also perform parametr selection and see, how better result we could obtain."
   ]
  },
  {
   "cell_type": "code",
   "execution_count": 102,
   "metadata": {
    "collapsed": false
   },
   "outputs": [
    {
     "data": {
      "text/plain": [
       "GridSearchCV(cv=None, error_score='raise',\n",
       "       estimator=LinearSVC(C=1, class_weight=None, dual=True, fit_intercept=True,\n",
       "     intercept_scaling=1, loss='squared_hinge', max_iter=1000,\n",
       "     multi_class='ovr', penalty='l2', random_state=17, tol=0.0001,\n",
       "     verbose=0),\n",
       "       fit_params={}, iid=True, n_jobs=1,\n",
       "       param_grid={'C': array([  1.00000e-03,   1.00000e-02,   1.00000e-01,   1.00000e+00,\n",
       "         1.00000e+01,   1.00000e+02,   1.00000e+03])},\n",
       "       pre_dispatch='2*n_jobs', refit=True, return_train_score=True,\n",
       "       scoring=None, verbose=0)"
      ]
     },
     "execution_count": 102,
     "metadata": {},
     "output_type": "execute_result"
    }
   ],
   "source": [
    "svm_params1 = {'C': np.logspace(-3, 3, 7)}\n",
    "\n",
    "svm_grid_searcher1 = GridSearchCV(svm, param_grid=svm_params1)\n",
    "svm_grid_searcher1.fit(X_train_af, y_train)"
   ]
  },
  {
   "cell_type": "code",
   "execution_count": 103,
   "metadata": {
    "collapsed": false
   },
   "outputs": [
    {
     "data": {
      "text/plain": [
       "(0.77768746189798821, {'C': 0.10000000000000001})"
      ]
     },
     "execution_count": 103,
     "metadata": {},
     "output_type": "execute_result"
    }
   ],
   "source": [
    "svm_grid_searcher1.cv_results_['mean_test_score'].max(), svm_grid_searcher1.best_params_"
   ]
  },
  {
   "cell_type": "code",
   "execution_count": 105,
   "metadata": {
    "collapsed": false
   },
   "outputs": [
    {
     "data": {
      "text/plain": [
       "GridSearchCV(cv=None, error_score='raise',\n",
       "       estimator=LinearSVC(C=1, class_weight=None, dual=True, fit_intercept=True,\n",
       "     intercept_scaling=1, loss='squared_hinge', max_iter=1000,\n",
       "     multi_class='ovr', penalty='l2', random_state=17, tol=0.0001,\n",
       "     verbose=0),\n",
       "       fit_params={}, iid=True, n_jobs=1,\n",
       "       param_grid={'C': array([  1.00000e-04,   1.00095e-01,   2.00090e-01,   3.00085e-01,\n",
       "         4.00080e-01,   5.00075e-01,   6.00070e-01,   7.00065e-01,\n",
       "         8.00060e-01,   9.00055e-01,   1.00005e+00,   1.10004e+00,\n",
       "         1.20004e+00,   1.30004e+00,   1.40003e+00,   1.50002e+00,\n",
       "         1.60002e+00,   1.70002e+00,   1.80001e+00,   1.90000e+00,\n",
       "         2.00000e+00])},\n",
       "       pre_dispatch='2*n_jobs', refit=True, return_train_score=True,\n",
       "       scoring=None, verbose=0)"
      ]
     },
     "execution_count": 105,
     "metadata": {},
     "output_type": "execute_result"
    }
   ],
   "source": [
    "svm_params2 = {'C': np.linspace(1e-4, 2, 21)}\n",
    "\n",
    "svm_grid_searcher1 = GridSearchCV(svm, param_grid=svm_params2)\n",
    "svm_grid_searcher1.fit(X_train_af, y_train)"
   ]
  },
  {
   "cell_type": "code",
   "execution_count": 106,
   "metadata": {
    "collapsed": false
   },
   "outputs": [
    {
     "data": {
      "text/plain": [
       "(0.77768746189798821, {'C': 0.100095})"
      ]
     },
     "execution_count": 106,
     "metadata": {},
     "output_type": "execute_result"
    }
   ],
   "source": [
    "svm_grid_searcher1.cv_results_['mean_test_score'].max(), svm_grid_searcher1.best_params_"
   ]
  },
  {
   "cell_type": "markdown",
   "metadata": {},
   "source": [
    "Thus, default C is roughly the best parameter for this SVM.\n",
    "\n",
    "**Results**\n",
    "\n",
    "-Site sequence data doesn't give us any improvment but could spoil the result, thus we shouldn;t use it.\n",
    "\n",
    "-Random forest estimator gives us the best accuracy, but linear regression result roughly the same, while it's much more easier to optimize it by gradient descent, thus we will use a linear regression mostly."
   ]
  },
  {
   "cell_type": "markdown",
   "metadata": {},
   "source": [
    "**Working with Vowpal wabbit**\n",
    "\n",
    "In this section we arer going to work with Vowpal wabbit. First of all we need to transform data to the format Vowpal could read."
   ]
  },
  {
   "cell_type": "code",
   "execution_count": 203,
   "metadata": {
    "collapsed": false
   },
   "outputs": [],
   "source": [
    "#Function to transform given format to vw\n",
    "def table_to_vw(X, y=None, out_file='tmp.vw'):\n",
    "    if y is None:\n",
    "        l = np.ones((X.shape[0],), dtype=np.int)\n",
    "    else:\n",
    "        l = y\n",
    "    file = open(out_file, \"w\")\n",
    "    file.close()\n",
    "    j = 0    \n",
    "    for row in tqdm(X):\n",
    "        locstr = str(l[j]) + ' |sites'\n",
    "        for site, count in zip(np.unique(row[:10], return_counts=True)[0], np.unique(row[:10], return_counts=True)[1]):\n",
    "            if site != 0:\n",
    "                locstr += ' '+str(site)+':'+str(count)\n",
    "        \n",
    "        locstr += ' |pages'\n",
    "        i = 0\n",
    "        for page in row[:10]:\n",
    "            locstr += ' '+str(i)+':'+str(page)\n",
    "            i +=1\n",
    "        \n",
    "        locstr += ' |adds'\n",
    "        i = 0\n",
    "        for add in row[10:]:\n",
    "            locstr += ' '+str(i)+':'+str(add)\n",
    "            i += 1\n",
    "        locstr += '\\n'\n",
    "        with open(out_file, 'a') as vw_data:\n",
    "                vw_data.write(locstr)\n",
    "        j += 1"
   ]
  },
  {
   "cell_type": "markdown",
   "metadata": {},
   "source": [
    "We need to make class label accepted by vowpal from our user id numbers."
   ]
  },
  {
   "cell_type": "code",
   "execution_count": 118,
   "metadata": {
    "collapsed": false
   },
   "outputs": [],
   "source": [
    "class_encoder = LabelEncoder()\n",
    "y = class_encoder.fit_transform(train_df.user_id.values) + 1"
   ]
  },
  {
   "cell_type": "markdown",
   "metadata": {},
   "source": [
    "Separate train and validation data"
   ]
  },
  {
   "cell_type": "code",
   "execution_count": 220,
   "metadata": {
    "collapsed": false
   },
   "outputs": [],
   "source": [
    "X_train, X_valid, y_train, y_valid = train_test_split(train_df.fillna(0)[tags].as_matrix().astype(int), y,test_size=0.3, \n",
    "                                                     random_state=7, stratify=y)"
   ]
  },
  {
   "cell_type": "markdown",
   "metadata": {},
   "source": [
    "Rebuild data to vowpal format"
   ]
  },
  {
   "cell_type": "code",
   "execution_count": 223,
   "metadata": {
    "collapsed": false
   },
   "outputs": [
    {
     "name": "stderr",
     "output_type": "stream",
     "text": [
      "100%|█████████████████████████████████| 127955/127955 [03:35<00:00, 593.95it/s]\n",
      "100%|███████████████████████████████████| 54838/54838 [01:54<00:00, 480.19it/s]\n"
     ]
    }
   ],
   "source": [
    "table_to_vw(X_train, y_train, out_file='Train.vw')\n",
    "table_to_vw(X_valid, out_file='Valid.vw')"
   ]
  },
  {
   "cell_type": "markdown",
   "metadata": {},
   "source": [
    "**Model 1:** Basic model"
   ]
  },
  {
   "cell_type": "code",
   "execution_count": 224,
   "metadata": {
    "collapsed": false
   },
   "outputs": [
    {
     "name": "stderr",
     "output_type": "stream",
     "text": [
      "ignoring namespaces beginning with: p , a \n",
      "final_regressor = model1.vw\n",
      "Num weight bits = 26\n",
      "learning rate = 0.5\n",
      "initial_t = 0\n",
      "power_t = 0.5\n",
      "decay_learning_rate = 1\n",
      "creating cache_file = Train.vw.cache\n",
      "Reading datafile = Train.vw\n",
      "num sources = 1\n",
      "average  since         example        example  current  current  current\n",
      "loss     last          counter         weight    label  predict features\n",
      "1.000000 1.000000            1            1.0      266        1        9\n",
      "1.000000 1.000000            2            2.0      319      266       10\n",
      "1.000000 1.000000            4            4.0      180      319        8\n",
      "1.000000 1.000000            8            8.0       83      266        2\n",
      "1.000000 1.000000           16           16.0      379        5        8\n",
      "1.000000 1.000000           32           32.0       78      139        2\n",
      "0.968750 0.937500           64           64.0      295      394        9\n",
      "0.968750 0.968750          128          128.0       64        2        4\n",
      "0.953125 0.937500          256          256.0      178      345       10\n",
      "0.935547 0.917969          512          512.0      312      159        8\n",
      "0.920898 0.906250         1024         1024.0      235       41        5\n",
      "0.908691 0.896484         2048         2048.0       22       48        6\n",
      "0.883057 0.857422         4096         4096.0       42       42       11\n",
      "0.849609 0.816162         8192         8192.0       92      158        4\n",
      "0.817688 0.785767        16384        16384.0      163      317        7\n",
      "0.778442 0.739197        32768        32768.0      348      397        8\n",
      "0.740540 0.702637        65536        65536.0      265      265       11\n",
      "0.706222 0.706222       131072       131072.0      244      244        7 h\n",
      "0.682403 0.658587       262144       262144.0      147      147        8 h\n",
      "\n",
      "finished run\n",
      "number of examples per pass = 115160\n",
      "passes used = 3\n",
      "weighted example sum = 345480.000000\n",
      "weighted label sum = 0.000000\n",
      "average loss = 0.650723 h\n",
      "total feature number = 2311002\n"
     ]
    },
    {
     "name": "stdout",
     "output_type": "stream",
     "text": [
      "Wall time: 1min 23s\n"
     ]
    }
   ],
   "source": [
    "%%time\n",
    "!vw -d Train.vw --oaa 400  -f model1.vw --passes 3 -c -k -b 26 --random_seed 17 --ignore p,a"
   ]
  },
  {
   "cell_type": "code",
   "execution_count": 225,
   "metadata": {
    "collapsed": false
   },
   "outputs": [
    {
     "name": "stderr",
     "output_type": "stream",
     "text": [
      "ignoring namespaces beginning with: p , a \n",
      "only testing\n",
      "predictions = pred1.csv\n",
      "Num weight bits = 26\n",
      "learning rate = 0.5\n",
      "initial_t = 0\n",
      "power_t = 0.5\n",
      "using no cache\n",
      "Reading datafile = Valid.vw\n",
      "num sources = 1\n",
      "average  since         example        example  current  current  current\n",
      "loss     last          counter         weight    label  predict features\n",
      "1.000000 1.000000            1            1.0        1        6       11\n",
      "1.000000 1.000000            2            2.0        1      341        6\n",
      "1.000000 1.000000            4            4.0        1      334        6\n",
      "1.000000 1.000000            8            8.0        1       48        3\n",
      "1.000000 1.000000           16           16.0        1       24        9\n",
      "1.000000 1.000000           32           32.0        1      295        9\n",
      "1.000000 1.000000           64           64.0        1      144        8\n",
      "1.000000 1.000000          128          128.0        1      348        2\n",
      "1.000000 1.000000          256          256.0        1      190        6\n",
      "1.000000 1.000000          512          512.0        1      206        2\n",
      "1.000000 1.000000         1024         1024.0        1      217        7\n",
      "0.999512 0.999023         2048         2048.0        1      354        8\n",
      "0.999512 0.999512         4096         4096.0        1      136        8\n",
      "0.999390 0.999268         8192         8192.0        1      385        5\n",
      "0.999084 0.998779        16384        16384.0        1      233        8\n",
      "0.999176 0.999268        32768        32768.0        1        8        2\n",
      "\n",
      "finished run\n",
      "number of examples per pass = 54838\n",
      "passes used = 1\n",
      "weighted example sum = 54838.000000\n",
      "weighted label sum = 0.000000\n",
      "average loss = 0.999106\n",
      "total feature number = 366939\n"
     ]
    }
   ],
   "source": [
    "!vw -t -i model1.vw -d Valid.vw -p pred1.csv"
   ]
  },
  {
   "cell_type": "code",
   "execution_count": 226,
   "metadata": {
    "collapsed": false
   },
   "outputs": [
    {
     "data": {
      "text/plain": [
       "0.35898464568365002"
      ]
     },
     "execution_count": 226,
     "metadata": {},
     "output_type": "execute_result"
    }
   ],
   "source": [
    "pred = pd.read_csv('pred1.csv', names=['ans'])\n",
    "accuracy_score(y_valid, pred.ans.values)"
   ]
  },
  {
   "cell_type": "markdown",
   "metadata": {},
   "source": [
    "**Model 2:** Model with site sequences"
   ]
  },
  {
   "cell_type": "code",
   "execution_count": 227,
   "metadata": {
    "collapsed": false
   },
   "outputs": [
    {
     "name": "stderr",
     "output_type": "stream",
     "text": [
      "ignoring namespaces beginning with: a \n",
      "final_regressor = model2.vw\n",
      "Num weight bits = 26\n",
      "learning rate = 0.5\n",
      "initial_t = 0\n",
      "power_t = 0.5\n",
      "decay_learning_rate = 1\n",
      "creating cache_file = Train.vw.cache\n",
      "Reading datafile = Train.vw\n",
      "num sources = 1\n",
      "average  since         example        example  current  current  current\n",
      "loss     last          counter         weight    label  predict features\n",
      "1.000000 1.000000            1            1.0      266        1       19\n",
      "1.000000 1.000000            2            2.0      319      266       20\n",
      "1.000000 1.000000            4            4.0      180        5       18\n",
      "1.000000 1.000000            8            8.0       83      178        7\n",
      "1.000000 1.000000           16           16.0      379        5       18\n",
      "0.968750 0.937500           32           32.0       78       83        7\n",
      "0.968750 0.968750           64           64.0      295      151       19\n",
      "0.984375 1.000000          128          128.0       64        2       14\n",
      "0.992188 1.000000          256          256.0      178      349       20\n",
      "0.982422 0.972656          512          512.0      312      159       18\n",
      "0.961914 0.941406         1024         1024.0      235       41       15\n",
      "0.936035 0.910156         2048         2048.0       22       48       16\n",
      "0.909180 0.882324         4096         4096.0       42      195       21\n",
      "0.872803 0.836426         8192         8192.0       92      158       14\n",
      "0.836121 0.799438        16384        16384.0      163      317       17\n",
      "0.792603 0.749084        32768        32768.0      348      397       18\n",
      "0.750473 0.708344        65536        65536.0      265      265       21\n",
      "0.714462 0.714462       131072       131072.0      244      244       17 h\n",
      "0.687416 0.660372       262144       262144.0      147      147       18 h\n",
      "\n",
      "finished run\n",
      "number of examples per pass = 115160\n",
      "passes used = 3\n",
      "weighted example sum = 345480.000000\n",
      "weighted label sum = 0.000000\n",
      "average loss = 0.651817 h\n",
      "total feature number = 5641458\n"
     ]
    },
    {
     "name": "stdout",
     "output_type": "stream",
     "text": [
      "Wall time: 1min 18s\n"
     ]
    }
   ],
   "source": [
    "%%time\n",
    "!vw -d Train.vw --oaa 400  -f model2.vw --passes 3 -c -k -b 26 --random_seed 17 --ignore a"
   ]
  },
  {
   "cell_type": "code",
   "execution_count": 228,
   "metadata": {
    "collapsed": false
   },
   "outputs": [
    {
     "name": "stderr",
     "output_type": "stream",
     "text": [
      "ignoring namespaces beginning with: a \n",
      "only testing\n",
      "predictions = pred2.csv\n",
      "Num weight bits = 26\n",
      "learning rate = 0.5\n",
      "initial_t = 0\n",
      "power_t = 0.5\n",
      "using no cache\n",
      "Reading datafile = Valid.vw\n",
      "num sources = 1\n",
      "average  since         example        example  current  current  current\n",
      "loss     last          counter         weight    label  predict features\n",
      "1.000000 1.000000            1            1.0        1       21       21\n",
      "1.000000 1.000000            2            2.0        1      341       16\n",
      "1.000000 1.000000            4            4.0        1      334       16\n",
      "1.000000 1.000000            8            8.0        1       48       13\n",
      "1.000000 1.000000           16           16.0        1       24       19\n",
      "1.000000 1.000000           32           32.0        1      295       19\n",
      "1.000000 1.000000           64           64.0        1      144       18\n",
      "1.000000 1.000000          128          128.0        1      348        3\n",
      "1.000000 1.000000          256          256.0        1      190       16\n",
      "1.000000 1.000000          512          512.0        1      206       12\n",
      "1.000000 1.000000         1024         1024.0        1      249       17\n",
      "0.999512 0.999023         2048         2048.0        1      354       18\n",
      "0.999512 0.999512         4096         4096.0        1      136       18\n",
      "0.999390 0.999268         8192         8192.0        1      385       15\n",
      "0.998962 0.998535        16384        16384.0        1      233       18\n",
      "0.999054 0.999146        32768        32768.0        1        8       12\n",
      "\n",
      "finished run\n",
      "number of examples per pass = 54838\n",
      "passes used = 1\n",
      "weighted example sum = 54838.000000\n",
      "weighted label sum = 0.000000\n",
      "average loss = 0.999015\n",
      "total feature number = 895372\n"
     ]
    }
   ],
   "source": [
    "!vw -t -i model2.vw -d Valid.vw -p pred2.csv"
   ]
  },
  {
   "cell_type": "code",
   "execution_count": 229,
   "metadata": {
    "collapsed": false
   },
   "outputs": [
    {
     "data": {
      "text/plain": [
       "0.35816404682884129"
      ]
     },
     "execution_count": 229,
     "metadata": {},
     "output_type": "execute_result"
    }
   ],
   "source": [
    "pred = pd.read_csv('pred2.csv', names=['ans'])\n",
    "accuracy_score(y_valid, pred.ans.values)"
   ]
  },
  {
   "cell_type": "markdown",
   "metadata": {},
   "source": [
    "**Model 3:** with additional features"
   ]
  },
  {
   "cell_type": "code",
   "execution_count": 230,
   "metadata": {
    "collapsed": false
   },
   "outputs": [
    {
     "name": "stderr",
     "output_type": "stream",
     "text": [
      "ignoring namespaces beginning with: p \n",
      "final_regressor = model3.vw\n",
      "Num weight bits = 26\n",
      "learning rate = 0.5\n",
      "initial_t = 0\n",
      "power_t = 0.5\n",
      "decay_learning_rate = 1\n",
      "creating cache_file = Train.vw.cache\n",
      "Reading datafile = Train.vw\n",
      "num sources = 1\n",
      "average  since         example        example  current  current  current\n",
      "loss     last          counter         weight    label  predict features\n",
      "1.000000 1.000000            1            1.0      266        1       12\n",
      "1.000000 1.000000            2            2.0      319      266       13\n",
      "1.000000 1.000000            4            4.0      180      319       11\n",
      "1.000000 1.000000            8            8.0       83      397        5\n",
      "1.000000 1.000000           16           16.0      379        5       11\n",
      "1.000000 1.000000           32           32.0       78      139        5\n",
      "0.968750 0.937500           64           64.0      295      162       11\n",
      "0.968750 0.968750          128          128.0       64        2        7\n",
      "0.945313 0.921875          256          256.0      178      345       12\n",
      "0.947266 0.949219          512          512.0      312      253       11\n",
      "0.928711 0.910156         1024         1024.0      235       41        8\n",
      "0.914063 0.899414         2048         2048.0       22      294        9\n",
      "0.887207 0.860352         4096         4096.0       42      364       14\n",
      "0.854858 0.822510         8192         8192.0       92      158        7\n",
      "0.818787 0.782715        16384        16384.0      163      343       10\n",
      "0.774658 0.730530        32768        32768.0      348      278       11\n",
      "0.731888 0.689117        65536        65536.0      265      265       14\n",
      "0.692831 0.692831       131072       131072.0      244      244       10 h\n",
      "0.664549 0.636270       262144       262144.0      147      147       11 h\n",
      "\n",
      "finished run\n",
      "number of examples per pass = 115160\n",
      "passes used = 3\n",
      "weighted example sum = 345480.000000\n",
      "weighted label sum = 0.000000\n",
      "average loss = 0.627354 h\n",
      "total feature number = 3287643\n"
     ]
    },
    {
     "name": "stdout",
     "output_type": "stream",
     "text": [
      "Wall time: 1min 15s\n"
     ]
    }
   ],
   "source": [
    "%%time\n",
    "!vw -d Train.vw --oaa 400  -f model3.vw --passes 3 -c -k -b 26 --random_seed 17 --ignore p"
   ]
  },
  {
   "cell_type": "code",
   "execution_count": 231,
   "metadata": {
    "collapsed": false
   },
   "outputs": [
    {
     "name": "stderr",
     "output_type": "stream",
     "text": [
      "ignoring namespaces beginning with: p \n",
      "only testing\n",
      "predictions = pred3.csv\n",
      "Num weight bits = 26\n",
      "learning rate = 0.5\n",
      "initial_t = 0\n",
      "power_t = 0.5\n",
      "using no cache\n",
      "Reading datafile = Valid.vw\n",
      "num sources = 1\n",
      "average  since         example        example  current  current  current\n",
      "loss     last          counter         weight    label  predict features\n",
      "1.000000 1.000000            1            1.0        1      128       14\n",
      "1.000000 1.000000            2            2.0        1      341        9\n",
      "1.000000 1.000000            4            4.0        1      334        9\n",
      "1.000000 1.000000            8            8.0        1      160        6\n",
      "1.000000 1.000000           16           16.0        1       24       11\n",
      "1.000000 1.000000           32           32.0        1       42       12\n",
      "1.000000 1.000000           64           64.0        1       30       11\n",
      "1.000000 1.000000          128          128.0        1      312        5\n",
      "1.000000 1.000000          256          256.0        1      168        9\n",
      "1.000000 1.000000          512          512.0        1      206        5\n",
      "1.000000 1.000000         1024         1024.0        1      217       10\n",
      "0.999512 0.999023         2048         2048.0        1      354       11\n",
      "0.999512 0.999512         4096         4096.0        1      136       11\n",
      "0.999268 0.999023         8192         8192.0        1      265        8\n",
      "0.999084 0.998901        16384        16384.0        1      342       11\n",
      "0.999115 0.999146        32768        32768.0        1      335        5\n",
      "\n",
      "finished run\n",
      "number of examples per pass = 54838\n",
      "passes used = 1\n",
      "weighted example sum = 54838.000000\n",
      "weighted label sum = 0.000000\n",
      "average loss = 0.999106\n",
      "total feature number = 521862\n"
     ]
    }
   ],
   "source": [
    "!vw -t -i model3.vw -d Valid.vw -p pred3.csv"
   ]
  },
  {
   "cell_type": "code",
   "execution_count": 232,
   "metadata": {
    "collapsed": false
   },
   "outputs": [
    {
     "data": {
      "text/plain": [
       "0.37898902221087566"
      ]
     },
     "execution_count": 232,
     "metadata": {},
     "output_type": "execute_result"
    }
   ],
   "source": [
    "pred = pd.read_csv('pred3.csv', names=['ans'])\n",
    "accuracy_score(y_valid, pred.ans.values)"
   ]
  },
  {
   "cell_type": "markdown",
   "metadata": {},
   "source": [
    "**Model 4:** With all available data"
   ]
  },
  {
   "cell_type": "code",
   "execution_count": 233,
   "metadata": {
    "collapsed": false
   },
   "outputs": [
    {
     "name": "stderr",
     "output_type": "stream",
     "text": [
      "final_regressor = model4.vw\n",
      "Num weight bits = 26\n",
      "learning rate = 0.5\n",
      "initial_t = 0\n",
      "power_t = 0.5\n",
      "decay_learning_rate = 1\n",
      "creating cache_file = Train.vw.cache\n",
      "Reading datafile = Train.vw\n",
      "num sources = 1\n",
      "average  since         example        example  current  current  current\n",
      "loss     last          counter         weight    label  predict features\n",
      "1.000000 1.000000            1            1.0      266        1       22\n",
      "1.000000 1.000000            2            2.0      319      266       23\n",
      "1.000000 1.000000            4            4.0      180        5       21\n",
      "1.000000 1.000000            8            8.0       83      178       10\n",
      "1.000000 1.000000           16           16.0      379       59       21\n",
      "0.968750 0.937500           32           32.0       78       83       10\n",
      "0.968750 0.968750           64           64.0      295      151       21\n",
      "0.984375 1.000000          128          128.0       64        2       17\n",
      "0.988281 0.992188          256          256.0      178      326       22\n",
      "0.974609 0.960938          512          512.0      312      126       21\n",
      "0.957031 0.939453         1024         1024.0      235      148       18\n",
      "0.934570 0.912109         2048         2048.0       22      294       19\n",
      "0.911133 0.887695         4096         4096.0       42      195       24\n",
      "0.875244 0.839355         8192         8192.0       92      158       17\n",
      "0.833069 0.790894        16384        16384.0      163      349       20\n",
      "0.786774 0.740479        32768        32768.0      348      278       21\n",
      "0.741135 0.695496        65536        65536.0      265      265       24\n",
      "0.699835 0.699835       131072       131072.0      244      244       20 h\n",
      "0.668910 0.637987       262144       262144.0      147      147       21 h\n",
      "\n",
      "finished run\n",
      "number of examples per pass = 115160\n",
      "passes used = 3\n",
      "weighted example sum = 345480.000000\n",
      "weighted label sum = 0.000000\n",
      "average loss = 0.628996 h\n",
      "total feature number = 6618099\n"
     ]
    },
    {
     "name": "stdout",
     "output_type": "stream",
     "text": [
      "Wall time: 1min 8s\n"
     ]
    }
   ],
   "source": [
    "%%time\n",
    "!vw -d Train.vw --oaa 400  -f model4.vw --passes 3 -c -k -b 26 --random_seed 17"
   ]
  },
  {
   "cell_type": "code",
   "execution_count": 236,
   "metadata": {
    "collapsed": false
   },
   "outputs": [
    {
     "name": "stderr",
     "output_type": "stream",
     "text": [
      "only testing\n",
      "predictions = pred4.csv\n",
      "Num weight bits = 26\n",
      "learning rate = 0.5\n",
      "initial_t = 0\n",
      "power_t = 0.5\n",
      "using no cache\n",
      "Reading datafile = Valid.vw\n",
      "num sources = 1\n",
      "average  since         example        example  current  current  current\n",
      "loss     last          counter         weight    label  predict features\n",
      "1.000000 1.000000            1            1.0        1      128       24\n",
      "1.000000 1.000000            2            2.0        1      341       19\n",
      "1.000000 1.000000            4            4.0        1      334       19\n",
      "1.000000 1.000000            8            8.0        1      160       16\n",
      "1.000000 1.000000           16           16.0        1       24       21\n",
      "1.000000 1.000000           32           32.0        1       42       22\n",
      "1.000000 1.000000           64           64.0        1       30       21\n",
      "1.000000 1.000000          128          128.0        1      312        6\n",
      "1.000000 1.000000          256          256.0        1      168       19\n",
      "1.000000 1.000000          512          512.0        1      206       15\n",
      "1.000000 1.000000         1024         1024.0        1      249       20\n",
      "0.999512 0.999023         2048         2048.0        1      354       21\n",
      "0.999512 0.999512         4096         4096.0        1      136       21\n",
      "0.999512 0.999512         8192         8192.0        1      265       18\n",
      "0.999268 0.999023        16384        16384.0        1      342       21\n",
      "0.999237 0.999207        32768        32768.0        1      335       15\n",
      "\n",
      "finished run\n",
      "number of examples per pass = 54838\n",
      "passes used = 1\n",
      "weighted example sum = 54838.000000\n",
      "weighted label sum = 0.000000\n",
      "average loss = 0.999216\n",
      "total feature number = 1050295\n"
     ]
    }
   ],
   "source": [
    "!vw -t -i model4.vw -d Valid.vw -p pred4.csv"
   ]
  },
  {
   "cell_type": "code",
   "execution_count": 237,
   "metadata": {
    "collapsed": false
   },
   "outputs": [
    {
     "data": {
      "text/plain": [
       "0.37796783252489152"
      ]
     },
     "execution_count": 237,
     "metadata": {},
     "output_type": "execute_result"
    }
   ],
   "source": [
    "pred = pd.read_csv('pred4.csv', names=['ans'])\n",
    "accuracy_score(y_valid, pred.ans.values)"
   ]
  },
  {
   "cell_type": "markdown",
   "metadata": {},
   "source": [
    "**Model 5:** with all data and ngrams"
   ]
  },
  {
   "cell_type": "code",
   "execution_count": 238,
   "metadata": {
    "collapsed": false
   },
   "outputs": [
    {
     "name": "stderr",
     "output_type": "stream",
     "text": [
      "Generating 3-grams for p namespaces.\n",
      "final_regressor = model5.vw\n",
      "Num weight bits = 26\n",
      "learning rate = 0.5\n",
      "initial_t = 0\n",
      "power_t = 0.5\n",
      "decay_learning_rate = 1\n",
      "creating cache_file = Train.vw.cache\n",
      "Reading datafile = Train.vw\n",
      "num sources = 1\n",
      "average  since         example        example  current  current  current\n",
      "loss     last          counter         weight    label  predict features\n",
      "1.000000 1.000000            1            1.0      266        1       39\n",
      "1.000000 1.000000            2            2.0      319      266       40\n",
      "1.000000 1.000000            4            4.0      180        5       38\n",
      "1.000000 1.000000            8            8.0       83       20       17\n",
      "1.000000 1.000000           16           16.0      379       59       38\n",
      "0.968750 0.937500           32           32.0       78       83       17\n",
      "0.984375 1.000000           64           64.0      295      151       38\n",
      "0.992188 1.000000          128          128.0       64        2       34\n",
      "0.992188 0.992188          256          256.0      178      144       39\n",
      "0.984375 0.976563          512          512.0      312      253       38\n",
      "0.979492 0.974609         1024         1024.0      235      120       35\n",
      "0.965820 0.952148         2048         2048.0       22       42       36\n",
      "0.947754 0.929688         4096         4096.0       42      195       41\n",
      "0.920410 0.893066         8192         8192.0       92      198       34\n",
      "0.880493 0.840576        16384        16384.0      163      162       37\n",
      "0.833923 0.787354        32768        32768.0      348      397       38\n",
      "0.784592 0.735260        65536        65536.0      265      265       41\n",
      "0.740352 0.740352       131072       131072.0      244      364       37 h\n",
      "0.701150 0.661952       262144       262144.0      147      213       38 h\n",
      "\n",
      "finished run\n",
      "number of examples per pass = 115160\n",
      "passes used = 3\n",
      "weighted example sum = 345480.000000\n",
      "weighted label sum = 0.000000\n",
      "average loss = 0.647362 h\n",
      "total feature number = 12245619\n"
     ]
    },
    {
     "name": "stdout",
     "output_type": "stream",
     "text": [
      "Wall time: 1min 14s\n"
     ]
    }
   ],
   "source": [
    "%%time\n",
    "!vw -d Train.vw --oaa 400  -f model5.vw --passes 3 -c -k -b 26 --random_seed 17 --ngram p3"
   ]
  },
  {
   "cell_type": "code",
   "execution_count": 239,
   "metadata": {
    "collapsed": false
   },
   "outputs": [
    {
     "name": "stderr",
     "output_type": "stream",
     "text": [
      "Generating 3-grams for p namespaces.\n",
      "only testing\n",
      "predictions = pred5.csv\n",
      "Num weight bits = 26\n",
      "learning rate = 0.5\n",
      "initial_t = 0\n",
      "power_t = 0.5\n",
      "using no cache\n",
      "Reading datafile = Valid.vw\n",
      "num sources = 1\n",
      "average  since         example        example  current  current  current\n",
      "loss     last          counter         weight    label  predict features\n",
      "1.000000 1.000000            1            1.0        1      128       41\n",
      "1.000000 1.000000            2            2.0        1      341       36\n",
      "1.000000 1.000000            4            4.0        1      334       36\n",
      "1.000000 1.000000            8            8.0        1      160       33\n",
      "1.000000 1.000000           16           16.0        1       24       38\n",
      "1.000000 1.000000           32           32.0        1       42       39\n",
      "1.000000 1.000000           64           64.0        1       30       38\n",
      "1.000000 1.000000          128          128.0        1      266        6\n",
      "1.000000 1.000000          256          256.0        1      168       36\n",
      "1.000000 1.000000          512          512.0        1      206       32\n",
      "1.000000 1.000000         1024         1024.0        1      217       37\n",
      "1.000000 1.000000         2048         2048.0        1      354       38\n",
      "0.999756 0.999512         4096         4096.0        1      159       38\n",
      "0.999268 0.998779         8192         8192.0        1       63       35\n",
      "0.999146 0.999023        16384        16384.0        1      233       38\n",
      "0.999054 0.998962        32768        32768.0        1      304       32\n",
      "\n",
      "finished run\n",
      "number of examples per pass = 54838\n",
      "passes used = 1\n",
      "weighted example sum = 54838.000000\n",
      "weighted label sum = 0.000000\n",
      "average loss = 0.999088\n",
      "total feature number = 1943122\n"
     ]
    }
   ],
   "source": [
    "!vw -t -i model5.vw -d Valid.vw -p pred5.csv"
   ]
  },
  {
   "cell_type": "code",
   "execution_count": 240,
   "metadata": {
    "collapsed": false
   },
   "outputs": [
    {
     "data": {
      "text/plain": [
       "0.36204821474160254"
      ]
     },
     "execution_count": 240,
     "metadata": {},
     "output_type": "execute_result"
    }
   ],
   "source": [
    "pred = pd.read_csv('pred5.csv', names=['ans'])\n",
    "accuracy_score(y_valid, pred.ans.values)"
   ]
  },
  {
   "cell_type": "markdown",
   "metadata": {},
   "source": [
    "Now we could submit result to competition"
   ]
  },
  {
   "cell_type": "code",
   "execution_count": 256,
   "metadata": {
    "collapsed": false
   },
   "outputs": [
    {
     "name": "stderr",
     "output_type": "stream",
     "text": [
      "ignoring namespaces beginning with: p \n",
      "final_regressor = model6.vw\n",
      "Num weight bits = 24\n",
      "learning rate = 0.5\n",
      "initial_t = 0\n",
      "power_t = 0.5\n",
      "decay_learning_rate = 1\n",
      "creating cache_file = Data2.vw.cache\n",
      "Reading datafile = Data2.vw\n",
      "num sources = 1\n",
      "average  since         example        example  current  current  current\n",
      "loss     last          counter         weight    label  predict features\n",
      "1.000000 1.000000            1            1.0      262        1        5\n",
      "1.000000 1.000000            2            2.0       82      262       10\n",
      "1.000000 1.000000            4            4.0      241       16       11\n",
      "1.000000 1.000000            8            8.0      352      262        6\n",
      "1.000000 1.000000           16           16.0      135       16        7\n",
      "1.000000 1.000000           32           32.0       71      112        8\n",
      "0.968750 0.937500           64           64.0      358        9        8\n",
      "0.976563 0.984375          128          128.0      348      281       13\n",
      "0.949219 0.921875          256          256.0      202      148       14\n",
      "0.955078 0.960938          512          512.0       30      353       11\n",
      "0.936523 0.917969         1024         1024.0       36      290        5\n",
      "0.920898 0.905273         2048         2048.0       21      397       10\n",
      "0.887695 0.854492         4096         4096.0       80      229       12\n",
      "0.852417 0.817139         8192         8192.0      307       79        8\n",
      "0.817078 0.781738        16384        16384.0       59      193       12\n",
      "0.775665 0.734253        32768        32768.0      262       30        7\n",
      "0.733307 0.690948        65536        65536.0      171      238       13\n",
      "0.692970 0.652634       131072       131072.0      180       18       12\n",
      "0.655806 0.655806       262144       262144.0       88       88        8 h\n",
      "\n",
      "finished run\n",
      "number of examples per pass = 164514\n",
      "passes used = 3\n",
      "weighted example sum = 493542.000000\n",
      "weighted label sum = 0.000000\n",
      "average loss = 0.608622 h\n",
      "total feature number = 4696386\n"
     ]
    },
    {
     "name": "stdout",
     "output_type": "stream",
     "text": [
      "Wall time: 1min 34s\n"
     ]
    }
   ],
   "source": [
    "%%time\n",
    "!vw -d Data2.vw --oaa 400  -f model6.vw --passes 3 -c -k -b 24 --random_seed 17 --ignore p"
   ]
  },
  {
   "cell_type": "code",
   "execution_count": 258,
   "metadata": {
    "collapsed": false
   },
   "outputs": [
    {
     "name": "stderr",
     "output_type": "stream",
     "text": [
      "ignoring namespaces beginning with: p \n",
      "only testing\n",
      "predictions = Target2.csv\n",
      "Num weight bits = 24\n",
      "learning rate = 0.5\n",
      "initial_t = 0\n",
      "power_t = 0.5\n",
      "using no cache\n",
      "Reading datafile = Target2.vw\n",
      "num sources = 1\n",
      "average  since         example        example  current  current  current\n",
      "loss     last          counter         weight    label  predict features\n",
      "1.000000 1.000000            1            1.0        1      310       13\n",
      "1.000000 1.000000            2            2.0        1       59       11\n",
      "1.000000 1.000000            4            4.0        1      265        5\n",
      "1.000000 1.000000            8            8.0        1      137        7\n",
      "1.000000 1.000000           16           16.0        1      273       10\n",
      "1.000000 1.000000           32           32.0        1       85        6\n",
      "1.000000 1.000000           64           64.0        1      298       14\n",
      "1.000000 1.000000          128          128.0        1      129        5\n",
      "1.000000 1.000000          256          256.0        1      112        5\n",
      "0.990234 0.980469          512          512.0        1      284        9\n",
      "0.991211 0.992188         1024         1024.0        1      202       13\n",
      "0.991699 0.992188         2048         2048.0        1      181        7\n",
      "0.994629 0.997559         4096         4096.0        1      263       12\n",
      "0.995850 0.997070         8192         8192.0        1       99        7\n",
      "0.995728 0.995605        16384        16384.0        1       37        7\n",
      "0.994843 0.993958        32768        32768.0        1       10       11\n",
      "\n",
      "finished run\n",
      "number of examples per pass = 46473\n",
      "passes used = 1\n",
      "weighted example sum = 46473.000000\n",
      "weighted label sum = 0.000000\n",
      "average loss = 0.995008\n",
      "total feature number = 433551\n"
     ]
    }
   ],
   "source": [
    "!vw -t -i model6.vw -d Target2.vw -p Target2.csv"
   ]
  },
  {
   "cell_type": "code",
   "execution_count": 259,
   "metadata": {
    "collapsed": true
   },
   "outputs": [],
   "source": [
    "def write_to_submission_file(predicted_labels, out_file,\n",
    "                             target='user_id', index_label=\"session_id\"):\n",
    "    # turn predictions into data frame and save as csv file\n",
    "    predicted_df = pd.DataFrame(predicted_labels,\n",
    "                                index = np.arange(1, predicted_labels.shape[0] + 1),\n",
    "                                columns=[target])\n",
    "    predicted_df.to_csv(out_file, index_label=index_label)"
   ]
  },
  {
   "cell_type": "code",
   "execution_count": 260,
   "metadata": {
    "collapsed": true
   },
   "outputs": [],
   "source": [
    "vm_pred=pd.read_csv('Target2.csv', names=['ans'])\n",
    "vm_pred['user_id']=vm_pred['ans'].apply(lambda x: class_encoder.inverse_transform(x-1))\n",
    "write_to_submission_file(vm_pred['user_id'].values, 'vm_pred.csv')"
   ]
  },
  {
   "cell_type": "markdown",
   "metadata": {},
   "source": [
    "Unforunatelly, this model gives worse results compare to basic model only with vectorized sites visited"
   ]
  },
  {
   "cell_type": "markdown",
   "metadata": {},
   "source": [
    "**Conclusion**"
   ]
  },
  {
   "cell_type": "markdown",
   "metadata": {},
   "source": [
    "During this project I did basic data processing, feature construction and data selection. Based on this date I tasted an efficiency of different models and choosed optimal one.\n",
    "\n",
    "This model could be used to identify user by any sequantial data. That could be not only web-pages, but, for example places user visited, which could be observed by connection to local wi-fi.\n",
    "\n",
    "This model could be further improved by feture construction or more sophisticated parameter selection."
   ]
  }
 ],
 "metadata": {
  "kernelspec": {
   "display_name": "Python 3",
   "language": "python",
   "name": "python3"
  },
  "language_info": {
   "codemirror_mode": {
    "name": "ipython",
    "version": 3
   },
   "file_extension": ".py",
   "mimetype": "text/x-python",
   "name": "python",
   "nbconvert_exporter": "python",
   "pygments_lexer": "ipython3",
   "version": "3.6.0"
  }
 },
 "nbformat": 4,
 "nbformat_minor": 2
}
